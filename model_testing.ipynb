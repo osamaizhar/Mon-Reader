{
 "cells": [
  {
   "cell_type": "markdown",
   "id": "49b431ab",
   "metadata": {},
   "source": [
    "# Mon-Reader: Detecting Page Flipping, Text Extraction, and Speech Synthesis\n",
    "This notebook covers the following workflow:\n",
    "1. **Detect page flipping vs. still pages using CNNs** (ResNet, MobileNet, EfficientNet, and a custom Osama Net) on the provided image dataset.\n",
    "2. **Extract text from detected still page frames** (future step, not implemented in this notebook).\n",
    "3. **Synthesize speech from extracted text (TTS)** (future step, not implemented in this notebook).\n",
    "\n",
    "## Notebook Outline\n",
    "- Import Required Libraries (with GPU support)\n",
    "- Load and Preprocess Dataset (images/training and images/testing, with flip/notflip subfolders)\n",
    "- Prepare Data Generators (with augmentation)\n",
    "- Build and Evaluate ResNet Model\n",
    "- Build and Evaluate MobileNet Model\n",
    "- Build and Evaluate EfficientNet Model\n",
    "- Define and Train Custom CNN (Osama Net)\n",
    "- Evaluate Osama Net on Test Set and Show Predictions\n",
    "- Compare Model Accuracies and Analysis"
   ]
  },
  {
   "cell_type": "markdown",
   "id": "c8469c28",
   "metadata": {},
   "source": [
    "# 1. Import Required Libraries and Enable GPU Support\n",
    "\n",
    "In this section, we import PyTorch and check for GPU availability. PyTorch will automatically use the GPU when available, which significantly speeds up model training.\n",
    "\n",
    "## CPU vs GPU Tips:\n",
    "- **GPU Acceleration**: Deep learning models train much faster on GPU than CPU.\n",
    "- **Device Selection**: We use `torch.device()` to automatically select GPU when available.\n",
    "- **Memory Management**: \n",
    "  - For large models, use smaller batch sizes on GPU with limited memory\n",
    "  - Use `pin_memory=True` for faster GPU data transfers\n",
    "  - Call `model.to(device)` to move the model to GPU/CPU\n",
    "  - Ensure tensors are on the same device with `.to(device)`\n",
    "- **Switching Between Devices**: To switch between CPU/GPU, just change the device variable and move tensors accordingly"
   ]
  },
  {
   "cell_type": "code",
   "execution_count": 6,
   "id": "69a80cdb",
   "metadata": {},
   "outputs": [
    {
     "name": "stdout",
     "output_type": "stream",
     "text": [
      "2.7.1+cu128\n",
      "CUDA available: True\n",
      "Using device: cuda\n"
     ]
    }
   ],
   "source": [
    "import torch\n",
    "import torchvision\n",
    "\n",
    "print(torch.__version__)\n",
    "print(f\"CUDA available: {torch.cuda.is_available()}\")\n",
    "device = torch.device(\"cuda\" if torch.cuda.is_available() else \"cpu\")\n",
    "print(f\"Using device: {device}\")"
   ]
  },
  {
   "cell_type": "code",
   "execution_count": 7,
   "id": "d59e8489",
   "metadata": {},
   "outputs": [],
   "source": [
    "import os\n",
    "import cv2\n",
    "import numpy as np\n",
    "import matplotlib.pyplot as plt\n",
    "import torch\n",
    "import torchvision\n",
    "import torchvision.transforms as transforms\n",
    "from torch.utils.data import DataLoader, Dataset\n",
    "from torchvision.datasets import ImageFolder\n",
    "import random\n",
    "from torch import nn, optim\n",
    "from torchvision import models\n",
    "from torch.optim import Adam\n",
    "from torch.utils.data.sampler import SubsetRandomSampler"
   ]
  },
  {
   "cell_type": "markdown",
   "id": "2a7bbcee",
   "metadata": {},
   "source": [
    "# 2. Load and Preprocess Dataset\n",
    "\n",
    "Here we define our image size and batch size parameters, and load the training and testing datasets from their respective directories. The dataset has two classes: 'flip' and 'notflip'."
   ]
  },
  {
   "cell_type": "code",
   "execution_count": 8,
   "id": "1829858b",
   "metadata": {},
   "outputs": [
    {
     "name": "stdout",
     "output_type": "stream",
     "text": [
      "Classes: ['flip', 'notflip']\n"
     ]
    }
   ],
   "source": [
    "IMG_SIZE = (128, 128)\n",
    "BATCH_SIZE = 32\n",
    "\n",
    "train_dir = \"images/training\"\n",
    "test_dir = \"images/testing\"\n",
    "\n",
    "transform = transforms.Compose(\n",
    "    [\n",
    "        transforms.Resize(IMG_SIZE),\n",
    "        transforms.ToTensor(),\n",
    "    ]\n",
    ")\n",
    "\n",
    "train_dataset = ImageFolder(root=train_dir, transform=transform)\n",
    "test_dataset = ImageFolder(root=test_dir, transform=transform)\n",
    "\n",
    "train_loader = DataLoader(train_dataset, batch_size=BATCH_SIZE, shuffle=True)\n",
    "test_loader = DataLoader(test_dataset, batch_size=BATCH_SIZE, shuffle=False)\n",
    "\n",
    "class_names = train_dataset.classes\n",
    "print(f\"Classes: {class_names}\")"
   ]
  },
  {
   "cell_type": "markdown",
   "id": "43f0916c",
   "metadata": {},
   "source": [
    "# 3. Prepare Data Generators with Augmentation\n",
    "\n",
    "Data augmentation helps prevent overfitting by creating variations of our training images. \n",
    "This is especially important for smaller datasets. The transformations include:\n",
    "- Random horizontal flipping\n",
    "- Random rotation (up to 10 degrees)\n",
    "- Random affine transformations (translation and scaling)"
   ]
  },
  {
   "cell_type": "code",
   "execution_count": 9,
   "id": "52bd66fd",
   "metadata": {},
   "outputs": [],
   "source": [
    "aug_transform = transforms.Compose(\n",
    "    [\n",
    "        transforms.Resize(IMG_SIZE),\n",
    "        transforms.RandomHorizontalFlip(),\n",
    "        transforms.RandomRotation(10),\n",
    "        transforms.RandomAffine(0, translate=(0.1, 0.1), scale=(0.9, 1.1)),\n",
    "        transforms.ToTensor(),\n",
    "    ]\n",
    ")\n",
    "\n",
    "aug_train_dataset = ImageFolder(root=train_dir, transform=aug_transform)\n",
    "aug_train_loader = DataLoader(aug_train_dataset, batch_size=BATCH_SIZE, shuffle=True)"
   ]
  },
  {
   "cell_type": "markdown",
   "id": "6fb1d415",
   "metadata": {},
   "source": [
    "# 4. Build and Evaluate Models\n",
    "\n",
    "## Using BCEWithLogitsLoss Instead of BCELoss\n",
    "\n",
    "In our updated models, we'll use `BCEWithLogitsLoss` instead of `BCELoss` for the following reasons:\n",
    "\n",
    "1. **Numerical Stability**: BCEWithLogitsLoss combines sigmoid and binary cross-entropy in one operation, which is more numerically stable.\n",
    "\n",
    "2. **Performance**: It's more efficient, especially on GPU, since it can leverage optimized implementations.\n",
    "\n",
    "3. **Avoiding Vanishing Gradients**: By incorporating the sigmoid operation, it prevents extreme values that could lead to vanishing gradients.\n",
    "\n",
    "4. **Simplified Model Architecture**: We can remove the final Sigmoid layer from our models, as BCEWithLogitsLoss applies it internally.\n",
    "\n",
    "All of our models will output raw logits rather than probabilities, with the loss function handling the sigmoid transformation.\n",
    "\n",
    "## ResNet Model"
   ]
  },
  {
   "cell_type": "code",
   "execution_count": 10,
   "id": "08c4fa12",
   "metadata": {},
   "outputs": [
    {
     "name": "stdout",
     "output_type": "stream",
     "text": [
      "Loading resnet_model from saved_models/resnet_model.pth\n",
      "ResNet Test Accuracy: 0.7136\n",
      "ResNet Test Accuracy: 0.7136\n"
     ]
    },
    {
     "data": {
      "image/png": "[encoded data removed]",
      "text/plain": [
       "<Figure size 640x480 with 2 Axes>"
      ]
     },
     "metadata": {},
     "output_type": "display_data"
    }
   ],
   "source": [
    "import os\n",
    "import numpy as np\n",
    "import matplotlib.pyplot as plt\n",
    "from sklearn.metrics import confusion_matrix, ConfusionMatrixDisplay\n",
    "import torch\n",
    "from torch import nn\n",
    "from torch.optim import Adam\n",
    "from torchvision import models\n",
    "\n",
    "\n",
    "def build_resnet(num_classes=1):\n",
    "    model = models.resnet50(weights=\"IMAGENET1K_V1\")\n",
    "    for param in model.parameters():\n",
    "        param.requires_grad = False\n",
    "    model.fc = nn.Sequential(\n",
    "        nn.Linear(model.fc.in_features, 128),\n",
    "        nn.ReLU(),\n",
    "        nn.Dropout(0.3),\n",
    "        nn.Linear(128, num_classes),\n",
    "    )\n",
    "    return model\n",
    "\n",
    "\n",
    "def train_or_load_model(\n",
    "    model, model_name, train_loader, test_loader, device, epochs=10, optimizer_cls=Adam\n",
    "):\n",
    "    os.makedirs(\"saved_models\", exist_ok=True)\n",
    "    model_path = f\"saved_models/{model_name}.pth\"\n",
    "    if os.path.exists(model_path):\n",
    "        print(f\"Loading {model_name} from {model_path}\")\n",
    "        model.load_state_dict(torch.load(model_path, map_location=device))\n",
    "        model = model.to(device)\n",
    "        return model\n",
    "    print(f\"Training {model_name}...\")\n",
    "    model = model.to(device)\n",
    "    criterion = nn.BCEWithLogitsLoss()\n",
    "    optimizer = optimizer_cls(model.parameters(), lr=1e-4)\n",
    "    for epoch in range(epochs):\n",
    "        model.train()\n",
    "        for images, labels in train_loader:\n",
    "            images, labels = images.to(device), labels.float().to(device)\n",
    "            labels = labels.unsqueeze(1)\n",
    "            optimizer.zero_grad()\n",
    "            outputs = model(images)\n",
    "            loss = criterion(outputs, labels)\n",
    "            loss.backward()\n",
    "            optimizer.step()\n",
    "        model.eval()\n",
    "        correct, total = 0, 0\n",
    "        with torch.no_grad():\n",
    "            for images, labels in test_loader:\n",
    "                images, labels = images.to(device), labels.float().to(device)\n",
    "                labels = labels.unsqueeze(1)\n",
    "                outputs = model(images)\n",
    "                preds = (outputs > 0).int()\n",
    "                correct += (preds == labels.int()).sum().item()\n",
    "                total += labels.size(0)\n",
    "        acc = correct / total\n",
    "        print(f\"Epoch {epoch + 1}/{epochs}, Test Accuracy: {acc:.4f}\")\n",
    "    torch.save(model.state_dict(), model_path)\n",
    "    print(f\"Saved {model_name} to {model_path}\")\n",
    "    return model\n",
    "\n",
    "\n",
    "def evaluate_model(model, test_loader, device, class_names, model_name):\n",
    "    model.eval()\n",
    "    all_preds, all_labels = [], []\n",
    "    with torch.no_grad():\n",
    "        for images, labels in test_loader:\n",
    "            images, labels = images.to(device), labels.float().to(device)\n",
    "            outputs = model(images)\n",
    "            preds = (outputs > 0).int().cpu().numpy().flatten()\n",
    "            all_preds.extend(preds)\n",
    "            all_labels.extend(labels.cpu().numpy().flatten())\n",
    "    acc = np.mean(np.array(all_preds) == np.array(all_labels))\n",
    "    print(f\"{model_name} Test Accuracy: {acc:.4f}\")\n",
    "    cm = confusion_matrix(all_labels, all_preds)\n",
    "    disp = ConfusionMatrixDisplay(confusion_matrix=cm, display_labels=class_names)\n",
    "    disp.plot(cmap=\"Blues\")\n",
    "    plt.title(f\"Confusion Matrix: {model_name}\")\n",
    "    plt.show()\n",
    "    return acc\n",
    "\n",
    "\n",
    "# ResNet\n",
    "resnet_model = build_resnet()\n",
    "resnet_model = train_or_load_model(\n",
    "    resnet_model, \"resnet_model\", aug_train_loader, test_loader, device, epochs=10\n",
    ")\n",
    "resnet_acc = evaluate_model(resnet_model, test_loader, device, class_names, \"ResNet\")"
   ]
  },
  {
   "cell_type": "markdown",
   "id": "0653c707",
   "metadata": {},
   "source": [
    "# 5. Build and Evaluate MobileNet Model\n",
    "\n",
    "MobileNet is a lightweight CNN architecture designed for mobile and embedded vision applications.\n",
    "It's significantly smaller than ResNet while still providing good accuracy."
   ]
  },
  {
   "cell_type": "code",
   "execution_count": 11,
   "id": "fe97ff8d",
   "metadata": {},
   "outputs": [
    {
     "name": "stdout",
     "output_type": "stream",
     "text": [
      "Training mobilenet_model...\n",
      "Epoch 1/10, Test Accuracy: 0.7236\n",
      "Epoch 1/10, Test Accuracy: 0.7236\n",
      "Epoch 2/10, Test Accuracy: 0.7588\n",
      "Epoch 2/10, Test Accuracy: 0.7588\n",
      "Epoch 3/10, Test Accuracy: 0.8258\n",
      "Epoch 3/10, Test Accuracy: 0.8258\n",
      "Epoch 4/10, Test Accuracy: 0.8325\n",
      "Epoch 4/10, Test Accuracy: 0.8325\n",
      "Epoch 5/10, Test Accuracy: 0.8459\n",
      "Epoch 5/10, Test Accuracy: 0.8459\n",
      "Epoch 6/10, Test Accuracy: 0.8626\n",
      "Epoch 6/10, Test Accuracy: 0.8626\n",
      "Epoch 7/10, Test Accuracy: 0.8626\n",
      "Epoch 7/10, Test Accuracy: 0.8626\n",
      "Epoch 8/10, Test Accuracy: 0.8660\n",
      "Epoch 8/10, Test Accuracy: 0.8660\n",
      "Epoch 9/10, Test Accuracy: 0.8643\n",
      "Epoch 9/10, Test Accuracy: 0.8643\n",
      "Epoch 10/10, Test Accuracy: 0.8693\n",
      "Saved mobilenet_model to saved_models/mobilenet_model.pth\n",
      "Epoch 10/10, Test Accuracy: 0.8693\n",
      "Saved mobilenet_model to saved_models/mobilenet_model.pth\n",
      "MobileNet Test Accuracy: 0.8693\n",
      "MobileNet Test Accuracy: 0.8693\n"
     ]
    },
    {
     "data": {
      "image/png": "[encoded data removed]",
      "text/plain": [
       "<Figure size 640x480 with 2 Axes>"
      ]
     },
     "metadata": {},
     "output_type": "display_data"
    },
    {
     "name": "stdout",
     "output_type": "stream",
     "text": [
      "MobileNet Test Accuracy: 0.8693\n"
     ]
    }
   ],
   "source": [
    "def build_mobilenet(num_classes=1):\n",
    "    model = models.mobilenet_v2(weights=\"IMAGENET1K_V1\")\n",
    "    # Freeze all the parameters in the pre-trained model\n",
    "    for param in model.parameters():\n",
    "        param.requires_grad = False\n",
    "\n",
    "    # Replace the classifier with a new one\n",
    "    model.classifier = nn.Sequential(\n",
    "        nn.Linear(model.classifier[1].in_features, 128),\n",
    "        nn.ReLU(),\n",
    "        nn.Dropout(0.3),\n",
    "        nn.Linear(128, num_classes),\n",
    "        # No sigmoid - using BCEWithLogitsLoss\n",
    "    )\n",
    "    return model\n",
    "\n",
    "\n",
    "# Build the MobileNet model\n",
    "mobilenet_model = build_mobilenet()\n",
    "\n",
    "# Train the model\n",
    "mobilenet_model = train_or_load_model(\n",
    "    mobilenet_model, \"mobilenet_model\", aug_train_loader, test_loader, device, epochs=10\n",
    ")\n",
    "\n",
    "# Evaluate the model\n",
    "mobilenet_acc = evaluate_model(\n",
    "    mobilenet_model, test_loader, device, class_names, \"MobileNet\"\n",
    ")\n",
    "\n",
    "# Print the final accuracy\n",
    "print(f\"MobileNet Test Accuracy: {mobilenet_acc:.4f}\")\n"
   ]
  },
  {
   "cell_type": "markdown",
   "id": "c18fde1d",
   "metadata": {},
   "source": [
    "# 6. Build and Evaluate EfficientNet Model\n",
    "\n",
    "EfficientNet uses a compound scaling method that uniformly scales network width, depth, and resolution\n",
    "to balance model size and accuracy. It's known for achieving state-of-the-art accuracy with fewer parameters."
   ]
  },
  {
   "cell_type": "code",
   "execution_count": 12,
   "id": "1ef22290",
   "metadata": {},
   "outputs": [
    {
     "name": "stdout",
     "output_type": "stream",
     "text": [
      "Downloading: \"https://download.pytorch.org/models/efficientnet_b0_rwightman-7f5810bc.pth\" to C:\\Users\\Osama/.cache\\torch\\hub\\checkpoints\\efficientnet_b0_rwightman-7f5810bc.pth\n"
     ]
    },
    {
     "name": "stderr",
     "output_type": "stream",
     "text": [
      "100.0%\n",
      "\n"
     ]
    },
    {
     "name": "stdout",
     "output_type": "stream",
     "text": [
      "Training efficientnet_model...\n",
      "Epoch 1/10, Test Accuracy: 0.7186\n",
      "Epoch 1/10, Test Accuracy: 0.7186\n",
      "Epoch 2/10, Test Accuracy: 0.7504\n",
      "Epoch 2/10, Test Accuracy: 0.7504\n",
      "Epoch 3/10, Test Accuracy: 0.8007\n",
      "Epoch 3/10, Test Accuracy: 0.8007\n",
      "Epoch 4/10, Test Accuracy: 0.8241\n",
      "Epoch 4/10, Test Accuracy: 0.8241\n",
      "Epoch 5/10, Test Accuracy: 0.8124\n",
      "Epoch 5/10, Test Accuracy: 0.8124\n",
      "Epoch 6/10, Test Accuracy: 0.8459\n",
      "Epoch 6/10, Test Accuracy: 0.8459\n",
      "Epoch 7/10, Test Accuracy: 0.8459\n",
      "Epoch 7/10, Test Accuracy: 0.8459\n",
      "Epoch 8/10, Test Accuracy: 0.8576\n",
      "Epoch 8/10, Test Accuracy: 0.8576\n",
      "Epoch 9/10, Test Accuracy: 0.8509\n",
      "Epoch 9/10, Test Accuracy: 0.8509\n",
      "Epoch 10/10, Test Accuracy: 0.8409\n",
      "Saved efficientnet_model to saved_models/efficientnet_model.pth\n",
      "Epoch 10/10, Test Accuracy: 0.8409\n",
      "Saved efficientnet_model to saved_models/efficientnet_model.pth\n",
      "EfficientNet Test Accuracy: 0.8409\n",
      "EfficientNet Test Accuracy: 0.8409\n"
     ]
    },
    {
     "data": {
      "image/png": "[encoded data removed]",
      "text/plain": [
       "<Figure size 640x480 with 2 Axes>"
      ]
     },
     "metadata": {},
     "output_type": "display_data"
    }
   ],
   "source": [
    "def build_efficientnet(num_classes=1):\n",
    "    model = models.efficientnet_b0(weights=\"IMAGENET1K_V1\")\n",
    "    for param in model.parameters():\n",
    "        param.requires_grad = False\n",
    "    model.classifier = nn.Sequential(\n",
    "        nn.Dropout(0.3),\n",
    "        nn.Linear(model.classifier[1].in_features, 128),\n",
    "        nn.ReLU(),\n",
    "        nn.Linear(128, num_classes),\n",
    "    )\n",
    "    return model\n",
    "\n",
    "\n",
    "efficientnet_model = build_efficientnet()\n",
    "efficientnet_model = train_or_load_model(\n",
    "    efficientnet_model,\n",
    "    \"efficientnet_model\",\n",
    "    aug_train_loader,\n",
    "    test_loader,\n",
    "    device,\n",
    "    epochs=10,\n",
    ")\n",
    "efficientnet_acc = evaluate_model(\n",
    "    efficientnet_model, test_loader, device, class_names, \"EfficientNet\"\n",
    ")"
   ]
  },
  {
   "cell_type": "markdown",
   "id": "30e2283c",
   "metadata": {},
   "source": [
    "# 7. Define and Train Custom CNN (Osama Net)\n",
    "\n",
    "Here we define a custom CNN architecture called \"Osama Net\" with three convolutional blocks\n",
    "followed by a classifier with dropout for regularization."
   ]
  },
  {
   "cell_type": "code",
   "execution_count": 13,
   "id": "8d9a72fc",
   "metadata": {},
   "outputs": [
    {
     "name": "stdout",
     "output_type": "stream",
     "text": [
      "Training osama_net...\n",
      "Epoch 1/20, Test Accuracy: 0.5896\n",
      "Epoch 1/20, Test Accuracy: 0.5896\n",
      "Epoch 2/20, Test Accuracy: 0.8978\n",
      "Epoch 2/20, Test Accuracy: 0.8978\n",
      "Epoch 3/20, Test Accuracy: 0.9531\n",
      "Epoch 3/20, Test Accuracy: 0.9531\n",
      "Epoch 4/20, Test Accuracy: 0.9732\n",
      "Epoch 4/20, Test Accuracy: 0.9732\n",
      "Epoch 5/20, Test Accuracy: 0.9497\n",
      "Epoch 5/20, Test Accuracy: 0.9497\n",
      "Epoch 6/20, Test Accuracy: 0.9481\n",
      "Epoch 6/20, Test Accuracy: 0.9481\n",
      "Epoch 7/20, Test Accuracy: 0.6851\n",
      "Epoch 7/20, Test Accuracy: 0.6851\n",
      "Epoch 8/20, Test Accuracy: 0.9313\n",
      "Epoch 8/20, Test Accuracy: 0.9313\n",
      "Epoch 9/20, Test Accuracy: 0.9414\n",
      "Epoch 9/20, Test Accuracy: 0.9414\n",
      "Epoch 10/20, Test Accuracy: 0.9045\n",
      "Epoch 10/20, Test Accuracy: 0.9045\n",
      "Epoch 11/20, Test Accuracy: 0.9581\n",
      "Epoch 11/20, Test Accuracy: 0.9581\n",
      "Epoch 12/20, Test Accuracy: 0.9715\n",
      "Epoch 12/20, Test Accuracy: 0.9715\n",
      "Epoch 13/20, Test Accuracy: 0.9497\n",
      "Epoch 13/20, Test Accuracy: 0.9497\n",
      "Epoch 14/20, Test Accuracy: 0.9414\n",
      "Epoch 14/20, Test Accuracy: 0.9414\n",
      "Epoch 15/20, Test Accuracy: 0.9816\n",
      "Epoch 15/20, Test Accuracy: 0.9816\n",
      "Epoch 16/20, Test Accuracy: 0.9095\n",
      "Epoch 16/20, Test Accuracy: 0.9095\n",
      "Epoch 17/20, Test Accuracy: 0.8978\n",
      "Epoch 17/20, Test Accuracy: 0.8978\n",
      "Epoch 18/20, Test Accuracy: 0.9782\n",
      "Epoch 18/20, Test Accuracy: 0.9782\n",
      "Epoch 19/20, Test Accuracy: 0.9849\n",
      "Epoch 19/20, Test Accuracy: 0.9849\n",
      "Epoch 20/20, Test Accuracy: 0.9765\n",
      "Saved osama_net to saved_models/osama_net.pth\n",
      "Epoch 20/20, Test Accuracy: 0.9765\n",
      "Saved osama_net to saved_models/osama_net.pth\n",
      "Osama Net Test Accuracy: 0.9765\n",
      "Osama Net Test Accuracy: 0.9765\n"
     ]
    },
    {
     "data": {
      "image/png": "[encoded data removed]",
      "text/plain": [
       "<Figure size 640x480 with 2 Axes>"
      ]
     },
     "metadata": {},
     "output_type": "display_data"
    }
   ],
   "source": [
    "from lion_pytorch import Lion\n",
    "\n",
    "\n",
    "class OsamaNet(nn.Module):\n",
    "    def __init__(self, num_classes=1):\n",
    "        super(OsamaNet, self).__init__()\n",
    "        self.features = nn.Sequential(\n",
    "            nn.Conv2d(3, 32, kernel_size=3, padding=1),\n",
    "            nn.ReLU(),\n",
    "            nn.BatchNorm2d(32),\n",
    "            nn.MaxPool2d(2),\n",
    "            nn.Conv2d(32, 64, kernel_size=3, padding=1),\n",
    "            nn.ReLU(),\n",
    "            nn.BatchNorm2d(64),\n",
    "            nn.MaxPool2d(2),\n",
    "            nn.Conv2d(64, 128, kernel_size=3, padding=1),\n",
    "            nn.ReLU(),\n",
    "            nn.BatchNorm2d(128),\n",
    "            nn.MaxPool2d(2),\n",
    "        )\n",
    "        self.classifier = nn.Sequential(\n",
    "            nn.Flatten(),\n",
    "            nn.Linear(128 * 16 * 16, 128),\n",
    "            nn.ReLU(),\n",
    "            nn.Dropout(0.4),\n",
    "            nn.Linear(128, num_classes),\n",
    "        )\n",
    "\n",
    "    def forward(self, x):\n",
    "        x = self.features(x)\n",
    "        x = self.classifier(x)\n",
    "        return x\n",
    "\n",
    "\n",
    "osama_net = OsamaNet()\n",
    "osama_net = train_or_load_model(\n",
    "    osama_net,\n",
    "    \"osama_net\",\n",
    "    aug_train_loader,\n",
    "    test_loader,\n",
    "    device,\n",
    "    epochs=20,\n",
    "    optimizer_cls=Lion,\n",
    ")\n",
    "osama_acc = evaluate_model(osama_net, test_loader, device, class_names, \"Osama Net\")"
   ]
  },
  {
   "cell_type": "markdown",
   "id": "e1d7f468",
   "metadata": {},
   "source": [
    "# 8. Evaluate Models and Compare Results\n",
    "\n",
    "Finally, we evaluate our models on the test dataset and visualize some predictions.\n",
    "We also compare the performance of all models to identify the best architecture for our task."
   ]
  },
  {
   "cell_type": "code",
   "execution_count": 14,
   "id": "9d3236d1",
   "metadata": {},
   "outputs": [
    {
     "name": "stdout",
     "output_type": "stream",
     "text": [
      "ResNet Test Accuracy: 0.7136\n",
      "MobileNet Test Accuracy: 0.8693\n",
      "EfficientNet Test Accuracy: 0.8409\n",
      "Osama Net Test Accuracy: 0.9765\n",
      "\n",
      "MobileNet Test Accuracy: 0.8693\n",
      "EfficientNet Test Accuracy: 0.8409\n",
      "Osama Net Test Accuracy: 0.9765\n"
     ]
    },
    {
     "data": {
      "image/png": "[encoded data removed]",
      "text/plain": [
       "<Figure size 800x500 with 1 Axes>"
      ]
     },
     "metadata": {},
     "output_type": "display_data"
    },
    {
     "name": "stdout",
     "output_type": "stream",
     "text": [
      "Analysis:\n",
      "Compare the results above. The best model is the one with the highest test accuracy. Consider model complexity, training time, and overfitting when choosing the best architecture for this task.\n"
     ]
    }
   ],
   "source": [
    "# Compare Model Accuracies and Analysis\n",
    "print(f\"ResNet Test Accuracy: {resnet_acc:.4f}\")\n",
    "print(f\"MobileNet Test Accuracy: {mobilenet_acc:.4f}\")\n",
    "print(f\"EfficientNet Test Accuracy: {efficientnet_acc:.4f}\")\n",
    "print(f\"Osama Net Test Accuracy: {osama_acc:.4f}\")\n",
    "\n",
    "accuracies = [resnet_acc, mobilenet_acc, efficientnet_acc, osama_acc]\n",
    "model_names = [\"ResNet\", \"MobileNet\", \"EfficientNet\", \"Osama Net\"]\n",
    "plt.figure(figsize=(8, 5))\n",
    "plt.bar(model_names, accuracies, color=[\"royalblue\", \"orange\", \"green\", \"purple\"])\n",
    "plt.ylabel(\"Test Accuracy\")\n",
    "plt.title(\"Model Comparison on Flipping Classification\")\n",
    "plt.ylim(0, 1)\n",
    "plt.show()\n",
    "\n",
    "# Analysis\n",
    "print(\"Analysis:\")\n",
    "print(\n",
    "    \"Compare the results above. The best model is the one with the highest test accuracy. Consider model complexity, training time, and overfitting when choosing the best architecture for this task.\"\n",
    ")"
   ]
  }
 ],
 "metadata": {
  "kernelspec": {
   "display_name": "env",
   "language": "python",
   "name": "python3"
  },
  "language_info": {
   "codemirror_mode": {
    "name": "ipython",
    "version": 3
   },
   "file_extension": ".py",
   "mimetype": "text/x-python",
   "name": "python",
   "nbconvert_exporter": "python",
   "pygments_lexer": "ipython3",
   "version": "3.12.0"
  }
 },
 "nbformat": 4,
 "nbformat_minor": 5
}
