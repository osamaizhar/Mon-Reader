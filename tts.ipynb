{
 "cells": [
  {
   "cell_type": "markdown",
   "id": "50bb77e8",
   "metadata": {},
   "source": [
    "# Simple Hugging Face TTS"
   ]
  },
  {
   "cell_type": "code",
   "execution_count": null,
   "id": "07d1217a",
   "metadata": {},
   "outputs": [
    {
     "ename": "ModuleNotFoundError",
     "evalue": "No module named 'models'",
     "output_type": "error",
     "traceback": [
      "\u001b[31m---------------------------------------------------------------------------\u001b[39m",
      "\u001b[31mModuleNotFoundError\u001b[39m                       Traceback (most recent call last)",
      "\u001b[36mCell\u001b[39m\u001b[36m \u001b[39m\u001b[32mIn[13]\u001b[39m\u001b[32m, line 34\u001b[39m\n\u001b[32m      1\u001b[39m \u001b[38;5;66;03m# import torch\u001b[39;00m\n\u001b[32m      2\u001b[39m \u001b[38;5;66;03m# from transformers import CsmForConditionalGeneration, AutoProcessor\u001b[39;00m\n\u001b[32m      3\u001b[39m \u001b[38;5;66;03m# from huggingface_hub import snapshot_download\u001b[39;00m\n\u001b[32m   (...)\u001b[39m\u001b[32m     29\u001b[39m \u001b[38;5;66;03m# # 4. Save as WAV\u001b[39;00m\n\u001b[32m     30\u001b[39m \u001b[38;5;66;03m# torchaudio.save(\"output.wav\", audio.unsqueeze(0).cpu(), processor.feature_extractor.sampling_rate)\u001b[39;00m\n\u001b[32m---> \u001b[39m\u001b[32m34\u001b[39m \u001b[38;5;28;01mfrom\u001b[39;00m\u001b[38;5;250m \u001b[39m\u001b[34;01mcsm\u001b[39;00m\u001b[34;01m.\u001b[39;00m\u001b[34;01mgenerator\u001b[39;00m\u001b[38;5;250m \u001b[39m\u001b[38;5;28;01mimport\u001b[39;00m load_csm_1b\n\u001b[32m     35\u001b[39m \u001b[38;5;28;01mimport\u001b[39;00m\u001b[38;5;250m \u001b[39m\u001b[34;01mtorchaudio\u001b[39;00m\n\u001b[32m     36\u001b[39m \u001b[38;5;28;01mimport\u001b[39;00m\u001b[38;5;250m \u001b[39m\u001b[34;01mtorch\u001b[39;00m\n",
      "\u001b[36mFile \u001b[39m\u001b[32m~/Desktop/Apziva Projects/Project 4/Mon-Reader/csm/generator.py:7\u001b[39m\n\u001b[32m      5\u001b[39m \u001b[38;5;28;01mimport\u001b[39;00m\u001b[38;5;250m \u001b[39m\u001b[34;01mtorchaudio\u001b[39;00m\n\u001b[32m      6\u001b[39m \u001b[38;5;28;01mfrom\u001b[39;00m\u001b[38;5;250m \u001b[39m\u001b[34;01mhuggingface_hub\u001b[39;00m\u001b[38;5;250m \u001b[39m\u001b[38;5;28;01mimport\u001b[39;00m hf_hub_download\n\u001b[32m----> \u001b[39m\u001b[32m7\u001b[39m \u001b[38;5;28;01mfrom\u001b[39;00m\u001b[38;5;250m \u001b[39m\u001b[34;01mmodels\u001b[39;00m\u001b[38;5;250m \u001b[39m\u001b[38;5;28;01mimport\u001b[39;00m Model\n\u001b[32m      8\u001b[39m \u001b[38;5;28;01mfrom\u001b[39;00m\u001b[38;5;250m \u001b[39m\u001b[34;01mmoshi\u001b[39;00m\u001b[34;01m.\u001b[39;00m\u001b[34;01mmodels\u001b[39;00m\u001b[38;5;250m \u001b[39m\u001b[38;5;28;01mimport\u001b[39;00m loaders\n\u001b[32m      9\u001b[39m \u001b[38;5;28;01mfrom\u001b[39;00m\u001b[38;5;250m \u001b[39m\u001b[34;01mtokenizers\u001b[39;00m\u001b[34;01m.\u001b[39;00m\u001b[34;01mprocessors\u001b[39;00m\u001b[38;5;250m \u001b[39m\u001b[38;5;28;01mimport\u001b[39;00m TemplateProcessing\n",
      "\u001b[31mModuleNotFoundError\u001b[39m: No module named 'models'"
     ]
    }
   ],
   "source": [
    "\n",
    "# import torch\n",
    "# from transformers import CsmForConditionalGeneration, AutoProcessor\n",
    "# from huggingface_hub import snapshot_download\n",
    "# import torchaudio\n",
    "# import os\n",
    "\n",
    "# # Option 1: Pre-download model for offline use\n",
    "# # Uncomment to download model ahead of time for offline/firewalled environments\n",
    "# # snapshot_download(repo_id=\"sesame/csm-1b\", repo_type=\"model\")\n",
    "\n",
    "# # Option 2: Set environment variable for offline usage\n",
    "# # os.environ[\"HF_HUB_OFFLINE\"] = \"1\"\n",
    "\n",
    "# # 1. Model & processor\n",
    "# model_id = \"sesame/csm-1b\"\n",
    "# device = \"cuda\" if torch.cuda.is_available() else \"cpu\"\n",
    "\n",
    "# # Option 3: Use local_files_only=True for cached/offline models\n",
    "# processor = AutoProcessor.from_pretrained(model_id)  # Add local_files_only=True if using cached model\n",
    "# model = CsmForConditionalGeneration.from_pretrained(model_id, device_map=device)  # Add local_files_only=True if using cached model\n",
    "\n",
    "# # 2. Prepare input text (speaker id 0)\n",
    "# text = \"[0]Hello from Sesame!\"\n",
    "# inputs = processor(text, return_tensors=\"pt\").to(device)\n",
    "\n",
    "# # 3. Synthesize audio\n",
    "# audio = model.generate(**inputs, output_audio=True)\n",
    "\n",
    "# # 4. Save as WAV\n",
    "# torchaudio.save(\"output.wav\", audio.unsqueeze(0).cpu(), processor.feature_extractor.sampling_rate)\n",
    "\n",
    "\n",
    "\n",
    "\n"
   ]
  },
  {
   "cell_type": "markdown",
   "id": "eab4aeb3",
   "metadata": {},
   "source": [
    "# Eleven Labs Streaming Audio Only"
   ]
  },
  {
   "cell_type": "code",
   "execution_count": 5,
   "id": "4790750b",
   "metadata": {},
   "outputs": [
    {
     "name": "stdout",
     "output_type": "stream",
     "text": [
      "Client initialized with API key: sk_d6daa7c5ad4efdde5c74a803204311063208d6e9be19db3d\n"
     ]
    }
   ],
   "source": [
    "from elevenlabs import stream\n",
    "from elevenlabs.client import ElevenLabs\n",
    "import os\n",
    "from dotenv import load_dotenv\n",
    "load_dotenv()\n",
    "key = os.getenv('ELEVEN_LABS_KEY')\n",
    "client = ElevenLabs(api_key=key)\n",
    "print(\"Client initialized with API key:\", key)\n",
    "audio_stream = client.text_to_speech.stream(\n",
    "    text=\"This is a test\",\n",
    "    voice_id=\"JBFqnCBsd6RMkjVDRZzb\",\n",
    "    model_id=\"eleven_multilingual_v2\"\n",
    ")\n",
    "\n",
    "# option 1: play the streamed audio locally\n",
    "stream(audio_stream)\n",
    "\n",
    "# option 2: process the audio bytes manually\n",
    "for chunk in audio_stream:\n",
    "    if isinstance(chunk, bytes):\n",
    "        print(chunk)\n"
   ]
  }
 ],
 "metadata": {
  "kernelspec": {
   "display_name": "env",
   "language": "python",
   "name": "python3"
  },
  "language_info": {
   "codemirror_mode": {
    "name": "ipython",
    "version": 3
   },
   "file_extension": ".py",
   "mimetype": "text/x-python",
   "name": "python",
   "nbconvert_exporter": "python",
   "pygments_lexer": "ipython3",
   "version": "3.12.3"
  }
 },
 "nbformat": 4,
 "nbformat_minor": 5
}
